{
 "cells": [
  {
   "cell_type": "code",
   "execution_count": 1,
   "metadata": {},
   "outputs": [],
   "source": [
    "import pandas as pd\n",
    "import numpy as np\n",
    "import urllib.request # to request URLs and get the HTML from it\n",
    "import requests\n",
    "import string \n",
    "from bs4 import BeautifulSoup # helps you clean HTML data, remove tags and select what you want\n",
    "from nltk.corpus import stopwords # ltk is a package to analyze text, dictionaries etc.\n",
    "import matplotlib.pyplot as plt\n",
    "from textblob import TextBlob\n",
    "import re\n",
    "\n",
    "%matplotlib inline"
   ]
  },
  {
   "cell_type": "code",
   "execution_count": 3,
   "metadata": {},
   "outputs": [
    {
     "data": {
      "text/html": [
       "<div>\n",
       "<style scoped>\n",
       "    .dataframe tbody tr th:only-of-type {\n",
       "        vertical-align: middle;\n",
       "    }\n",
       "\n",
       "    .dataframe tbody tr th {\n",
       "        vertical-align: top;\n",
       "    }\n",
       "\n",
       "    .dataframe thead th {\n",
       "        text-align: right;\n",
       "    }\n",
       "</style>\n",
       "<table border=\"1\" class=\"dataframe\">\n",
       "  <thead>\n",
       "    <tr style=\"text-align: right;\">\n",
       "      <th></th>\n",
       "      <th>Date</th>\n",
       "      <th>Text</th>\n",
       "    </tr>\n",
       "  </thead>\n",
       "  <tbody>\n",
       "    <tr>\n",
       "      <td>0</td>\n",
       "      <td>12-27-2019 14:42:30</td>\n",
       "      <td>“Trump Stock Market rally is far outpacing pas...</td>\n",
       "    </tr>\n",
       "    <tr>\n",
       "      <td>1</td>\n",
       "      <td>12-26-2019 20:41:48</td>\n",
       "      <td>“Trump stock market rally is far outpacing pas...</td>\n",
       "    </tr>\n",
       "    <tr>\n",
       "      <td>2</td>\n",
       "      <td>12-25-2019 23:02:34</td>\n",
       "      <td>Thank you Tammy. You are doing a GREAT job! ht...</td>\n",
       "    </tr>\n",
       "    <tr>\n",
       "      <td>3</td>\n",
       "      <td>12-25-2019 22:29:29</td>\n",
       "      <td>Governor Gavin N has done a really bad job on ...</td>\n",
       "    </tr>\n",
       "    <tr>\n",
       "      <td>4</td>\n",
       "      <td>12-24-2019 12:21:33</td>\n",
       "      <td>“The Trump Administration Trump policies have ...</td>\n",
       "    </tr>\n",
       "    <tr>\n",
       "      <td>...</td>\n",
       "      <td>...</td>\n",
       "      <td>...</td>\n",
       "    </tr>\n",
       "    <tr>\n",
       "      <td>858</td>\n",
       "      <td>01-19-2016 03:44:15</td>\n",
       "      <td>“The Trump Administration Trump policies have ...</td>\n",
       "    </tr>\n",
       "    <tr>\n",
       "      <td>859</td>\n",
       "      <td>01-14-2016 00:49:44</td>\n",
       "      <td>Governor Gavin N has done a really bad job on ...</td>\n",
       "    </tr>\n",
       "    <tr>\n",
       "      <td>860</td>\n",
       "      <td>01-12-2016 04:19:17</td>\n",
       "      <td>Thank you Tammy. You are doing a GREAT job! ht...</td>\n",
       "    </tr>\n",
       "    <tr>\n",
       "      <td>861</td>\n",
       "      <td>01-12-2016 03:34:17</td>\n",
       "      <td>“Trump stock market rally is far outpacing pas...</td>\n",
       "    </tr>\n",
       "    <tr>\n",
       "      <td>862</td>\n",
       "      <td>01-11-2016 14:41:52</td>\n",
       "      <td>“Trump Stock Market rally is far outpacing pas...</td>\n",
       "    </tr>\n",
       "  </tbody>\n",
       "</table>\n",
       "<p>863 rows × 2 columns</p>\n",
       "</div>"
      ],
      "text/plain": [
       "                    Date                                               Text\n",
       "0    12-27-2019 14:42:30  “Trump Stock Market rally is far outpacing pas...\n",
       "1    12-26-2019 20:41:48  “Trump stock market rally is far outpacing pas...\n",
       "2    12-25-2019 23:02:34  Thank you Tammy. You are doing a GREAT job! ht...\n",
       "3    12-25-2019 22:29:29  Governor Gavin N has done a really bad job on ...\n",
       "4    12-24-2019 12:21:33  “The Trump Administration Trump policies have ...\n",
       "..                   ...                                                ...\n",
       "858  01-19-2016 03:44:15  “The Trump Administration Trump policies have ...\n",
       "859  01-14-2016 00:49:44  Governor Gavin N has done a really bad job on ...\n",
       "860  01-12-2016 04:19:17  Thank you Tammy. You are doing a GREAT job! ht...\n",
       "861  01-12-2016 03:34:17  “Trump stock market rally is far outpacing pas...\n",
       "862  01-11-2016 14:41:52  “Trump Stock Market rally is far outpacing pas...\n",
       "\n",
       "[863 rows x 2 columns]"
      ]
     },
     "execution_count": 3,
     "metadata": {},
     "output_type": "execute_result"
    }
   ],
   "source": [
    "#Read the trump files\n",
    "trump = pd.read_csv('../data/trump.csv')\n",
    "trump"
   ]
  },
  {
   "cell_type": "code",
   "execution_count": 3,
   "metadata": {},
   "outputs": [
    {
     "data": {
      "text/html": [
       "<div>\n",
       "<style scoped>\n",
       "    .dataframe tbody tr th:only-of-type {\n",
       "        vertical-align: middle;\n",
       "    }\n",
       "\n",
       "    .dataframe tbody tr th {\n",
       "        vertical-align: top;\n",
       "    }\n",
       "\n",
       "    .dataframe thead th {\n",
       "        text-align: right;\n",
       "    }\n",
       "</style>\n",
       "<table border=\"1\" class=\"dataframe\">\n",
       "  <thead>\n",
       "    <tr style=\"text-align: right;\">\n",
       "      <th></th>\n",
       "      <th>Date</th>\n",
       "      <th>Text</th>\n",
       "      <th>date</th>\n",
       "    </tr>\n",
       "  </thead>\n",
       "  <tbody>\n",
       "    <tr>\n",
       "      <td>862</td>\n",
       "      <td>01-11-2016 14:41:52</td>\n",
       "      <td>“Trump Stock Market rally is far outpacing pas...</td>\n",
       "      <td>2016-01-11</td>\n",
       "    </tr>\n",
       "    <tr>\n",
       "      <td>861</td>\n",
       "      <td>01-12-2016 03:34:17</td>\n",
       "      <td>“Trump stock market rally is far outpacing pas...</td>\n",
       "      <td>2016-01-12</td>\n",
       "    </tr>\n",
       "    <tr>\n",
       "      <td>860</td>\n",
       "      <td>01-12-2016 04:19:17</td>\n",
       "      <td>Thank you Tammy. You are doing a GREAT job! ht...</td>\n",
       "      <td>2016-01-12</td>\n",
       "    </tr>\n",
       "    <tr>\n",
       "      <td>859</td>\n",
       "      <td>01-14-2016 00:49:44</td>\n",
       "      <td>Governor Gavin N has done a really bad job on ...</td>\n",
       "      <td>2016-01-14</td>\n",
       "    </tr>\n",
       "    <tr>\n",
       "      <td>858</td>\n",
       "      <td>01-19-2016 03:44:15</td>\n",
       "      <td>“The Trump Administration Trump policies have ...</td>\n",
       "      <td>2016-01-19</td>\n",
       "    </tr>\n",
       "    <tr>\n",
       "      <td>...</td>\n",
       "      <td>...</td>\n",
       "      <td>...</td>\n",
       "      <td>...</td>\n",
       "    </tr>\n",
       "    <tr>\n",
       "      <td>4</td>\n",
       "      <td>12-24-2019 12:21:33</td>\n",
       "      <td>“The Trump Administration Trump policies have ...</td>\n",
       "      <td>2019-12-24</td>\n",
       "    </tr>\n",
       "    <tr>\n",
       "      <td>3</td>\n",
       "      <td>12-25-2019 22:29:29</td>\n",
       "      <td>Governor Gavin N has done a really bad job on ...</td>\n",
       "      <td>2019-12-25</td>\n",
       "    </tr>\n",
       "    <tr>\n",
       "      <td>2</td>\n",
       "      <td>12-25-2019 23:02:34</td>\n",
       "      <td>Thank you Tammy. You are doing a GREAT job! ht...</td>\n",
       "      <td>2019-12-25</td>\n",
       "    </tr>\n",
       "    <tr>\n",
       "      <td>1</td>\n",
       "      <td>12-26-2019 20:41:48</td>\n",
       "      <td>“Trump stock market rally is far outpacing pas...</td>\n",
       "      <td>2019-12-26</td>\n",
       "    </tr>\n",
       "    <tr>\n",
       "      <td>0</td>\n",
       "      <td>12-27-2019 14:42:30</td>\n",
       "      <td>“Trump Stock Market rally is far outpacing pas...</td>\n",
       "      <td>2019-12-27</td>\n",
       "    </tr>\n",
       "  </tbody>\n",
       "</table>\n",
       "<p>863 rows × 3 columns</p>\n",
       "</div>"
      ],
      "text/plain": [
       "                    Date                                               Text  \\\n",
       "862  01-11-2016 14:41:52  “Trump Stock Market rally is far outpacing pas...   \n",
       "861  01-12-2016 03:34:17  “Trump stock market rally is far outpacing pas...   \n",
       "860  01-12-2016 04:19:17  Thank you Tammy. You are doing a GREAT job! ht...   \n",
       "859  01-14-2016 00:49:44  Governor Gavin N has done a really bad job on ...   \n",
       "858  01-19-2016 03:44:15  “The Trump Administration Trump policies have ...   \n",
       "..                   ...                                                ...   \n",
       "4    12-24-2019 12:21:33  “The Trump Administration Trump policies have ...   \n",
       "3    12-25-2019 22:29:29  Governor Gavin N has done a really bad job on ...   \n",
       "2    12-25-2019 23:02:34  Thank you Tammy. You are doing a GREAT job! ht...   \n",
       "1    12-26-2019 20:41:48  “Trump stock market rally is far outpacing pas...   \n",
       "0    12-27-2019 14:42:30  “Trump Stock Market rally is far outpacing pas...   \n",
       "\n",
       "           date  \n",
       "862  2016-01-11  \n",
       "861  2016-01-12  \n",
       "860  2016-01-12  \n",
       "859  2016-01-14  \n",
       "858  2016-01-19  \n",
       "..          ...  \n",
       "4    2019-12-24  \n",
       "3    2019-12-25  \n",
       "2    2019-12-25  \n",
       "1    2019-12-26  \n",
       "0    2019-12-27  \n",
       "\n",
       "[863 rows x 3 columns]"
      ]
     },
     "execution_count": 3,
     "metadata": {},
     "output_type": "execute_result"
    }
   ],
   "source": [
    "trump['date']=pd.to_datetime(trump['Date'])\n",
    "trump['date'] = trump['date'].dt.date\n",
    "trump = trump.sort_values(by=['date'])\n",
    "trump"
   ]
  },
  {
   "cell_type": "code",
   "execution_count": 4,
   "metadata": {},
   "outputs": [],
   "source": [
    "# Load the Loughran and McDonald dictionnary\n",
    "lm = pd.read_excel('../data/LoughranMcDonald_MasterDictionary_2014.xlsx')\n",
    "\n",
    "# get the lists of positive/negative words\n",
    "lmpos = list(lm[lm.Positive!=0]['Word'])\n",
    "lmneg = list(lm[lm.Negative!=0]['Word'])"
   ]
  },
  {
   "cell_type": "code",
   "execution_count": 5,
   "metadata": {},
   "outputs": [],
   "source": [
    "# in these lists, we store the date, number of words, \n",
    "# number of positive words and number of negative words in each article\n",
    "dates = []\n",
    "nwords = []\n",
    "nneg = []\n",
    "npos = []\n",
    "text = []\n",
    "\n",
    "\n",
    "# in this block of code, we extract informations from each tweet to fill up\n",
    "# the lists above\n",
    "for index, row in trump.iterrows():\n",
    "       \n",
    "    # get all text form the dt datafame\n",
    "    tweet = row['Text']\n",
    "    \n",
    "    # convert all words to lower case\n",
    "    tweet = tweet.lower()\n",
    "    \n",
    "    # remove non-letters (i.e., $ %)\n",
    "    natural_lang_data = ''.join([x for x in tweet if x in string.ascii_letters + '\\'- '])\n",
    "    \n",
    "    # before processing the natural language data, we need to remove stop words.\n",
    "    # stop words are words like: about, that, this, and, or, etc...\n",
    "    natural_lang_data = [x for x in natural_lang_data.split() if x not in stopwords.words('english')]\n",
    "    \n",
    "    # finally, we store the following data: \n",
    "    nwords.append(len(natural_lang_data)) # number of words, added \n",
    "    npos.append(len([i for i in natural_lang_data if i.upper() in lmpos]))  # number of positive words after changing to upper case\n",
    "    nneg.append(len([i for i in natural_lang_data if i.upper() in lmneg]))  # number of negative words\n",
    "    dates.append(row['date']) # the date\n",
    "    text.append(row['Text']) # the text"
   ]
  },
  {
   "cell_type": "code",
   "execution_count": 6,
   "metadata": {},
   "outputs": [],
   "source": [
    "# let's store our lists in a table:\n",
    "sentscore = pd.DataFrame(data={'nwords':nwords, 'npos':npos, 'nneg':nneg, 'Text':text}, index=dates)\n",
    "sentscore = sentscore.reset_index()\n",
    "sentscore = sentscore.rename(columns={'index':'date'})\n",
    "sentscore['date'] = pd.to_datetime(sentscore['date'])"
   ]
  },
  {
   "cell_type": "code",
   "execution_count": 7,
   "metadata": {},
   "outputs": [
    {
     "data": {
      "text/html": [
       "<div>\n",
       "<style scoped>\n",
       "    .dataframe tbody tr th:only-of-type {\n",
       "        vertical-align: middle;\n",
       "    }\n",
       "\n",
       "    .dataframe tbody tr th {\n",
       "        vertical-align: top;\n",
       "    }\n",
       "\n",
       "    .dataframe thead th {\n",
       "        text-align: right;\n",
       "    }\n",
       "</style>\n",
       "<table border=\"1\" class=\"dataframe\">\n",
       "  <thead>\n",
       "    <tr style=\"text-align: right;\">\n",
       "      <th></th>\n",
       "      <th>date</th>\n",
       "      <th>nwords</th>\n",
       "      <th>npos</th>\n",
       "      <th>nneg</th>\n",
       "      <th>Text</th>\n",
       "    </tr>\n",
       "  </thead>\n",
       "  <tbody>\n",
       "    <tr>\n",
       "      <td>0</td>\n",
       "      <td>2016-01-11</td>\n",
       "      <td>16</td>\n",
       "      <td>1</td>\n",
       "      <td>0</td>\n",
       "      <td>“Trump Stock Market rally is far outpacing pas...</td>\n",
       "    </tr>\n",
       "    <tr>\n",
       "      <td>1</td>\n",
       "      <td>2016-01-12</td>\n",
       "      <td>10</td>\n",
       "      <td>0</td>\n",
       "      <td>0</td>\n",
       "      <td>“Trump stock market rally is far outpacing pas...</td>\n",
       "    </tr>\n",
       "    <tr>\n",
       "      <td>2</td>\n",
       "      <td>2016-01-12</td>\n",
       "      <td>5</td>\n",
       "      <td>1</td>\n",
       "      <td>0</td>\n",
       "      <td>Thank you Tammy. You are doing a GREAT job! ht...</td>\n",
       "    </tr>\n",
       "    <tr>\n",
       "      <td>3</td>\n",
       "      <td>2016-01-14</td>\n",
       "      <td>20</td>\n",
       "      <td>0</td>\n",
       "      <td>2</td>\n",
       "      <td>Governor Gavin N has done a really bad job on ...</td>\n",
       "    </tr>\n",
       "    <tr>\n",
       "      <td>4</td>\n",
       "      <td>2016-01-19</td>\n",
       "      <td>11</td>\n",
       "      <td>0</td>\n",
       "      <td>0</td>\n",
       "      <td>“The Trump Administration Trump policies have ...</td>\n",
       "    </tr>\n",
       "  </tbody>\n",
       "</table>\n",
       "</div>"
      ],
      "text/plain": [
       "        date  nwords  npos  nneg  \\\n",
       "0 2016-01-11      16     1     0   \n",
       "1 2016-01-12      10     0     0   \n",
       "2 2016-01-12       5     1     0   \n",
       "3 2016-01-14      20     0     2   \n",
       "4 2016-01-19      11     0     0   \n",
       "\n",
       "                                                Text  \n",
       "0  “Trump Stock Market rally is far outpacing pas...  \n",
       "1  “Trump stock market rally is far outpacing pas...  \n",
       "2  Thank you Tammy. You are doing a GREAT job! ht...  \n",
       "3  Governor Gavin N has done a really bad job on ...  \n",
       "4  “The Trump Administration Trump policies have ...  "
      ]
     },
     "execution_count": 7,
     "metadata": {},
     "output_type": "execute_result"
    }
   ],
   "source": [
    "sentscore.head()"
   ]
  },
  {
   "cell_type": "code",
   "execution_count": 8,
   "metadata": {},
   "outputs": [
    {
     "data": {
      "text/plain": [
       "<matplotlib.axes._subplots.AxesSubplot at 0x10d9155d0>"
      ]
     },
     "execution_count": 8,
     "metadata": {},
     "output_type": "execute_result"
    },
    {
     "data": {
      "image/png": "[encoded data removed]",
      "text/plain": [
       "<Figure size 432x288 with 1 Axes>"
      ]
     },
     "metadata": {
      "needs_background": "light"
     },
     "output_type": "display_data"
    }
   ],
   "source": [
    "sentscore['npos'].value_counts().plot(kind='bar')"
   ]
  },
  {
   "cell_type": "code",
   "execution_count": 9,
   "metadata": {},
   "outputs": [
    {
     "data": {
      "text/plain": [
       "<matplotlib.axes._subplots.AxesSubplot at 0x1a2977da10>"
      ]
     },
     "execution_count": 9,
     "metadata": {},
     "output_type": "execute_result"
    },
    {
     "data": {
      "image/png": "[encoded data removed]",
      "text/plain": [
       "<Figure size 432x288 with 1 Axes>"
      ]
     },
     "metadata": {
      "needs_background": "light"
     },
     "output_type": "display_data"
    }
   ],
   "source": [
    "sentscore['nneg'].value_counts().plot(kind='bar')"
   ]
  },
  {
   "cell_type": "code",
   "execution_count": 10,
   "metadata": {},
   "outputs": [],
   "source": [
    "# let's add a new column that stores the sentitment. See the code for the formula\n",
    "sentscore['sent'] = (sentscore['npos'] - sentscore['nneg']) / sentscore['nwords']"
   ]
  },
  {
   "cell_type": "code",
   "execution_count": 11,
   "metadata": {},
   "outputs": [
    {
     "data": {
      "text/html": [
       "<div>\n",
       "<style scoped>\n",
       "    .dataframe tbody tr th:only-of-type {\n",
       "        vertical-align: middle;\n",
       "    }\n",
       "\n",
       "    .dataframe tbody tr th {\n",
       "        vertical-align: top;\n",
       "    }\n",
       "\n",
       "    .dataframe thead th {\n",
       "        text-align: right;\n",
       "    }\n",
       "</style>\n",
       "<table border=\"1\" class=\"dataframe\">\n",
       "  <thead>\n",
       "    <tr style=\"text-align: right;\">\n",
       "      <th></th>\n",
       "      <th>date</th>\n",
       "      <th>nwords</th>\n",
       "      <th>npos</th>\n",
       "      <th>nneg</th>\n",
       "      <th>Text</th>\n",
       "      <th>sent</th>\n",
       "      <th>date_week</th>\n",
       "    </tr>\n",
       "  </thead>\n",
       "  <tbody>\n",
       "    <tr>\n",
       "      <td>0</td>\n",
       "      <td>2016-01-11</td>\n",
       "      <td>16</td>\n",
       "      <td>1</td>\n",
       "      <td>0</td>\n",
       "      <td>“Trump Stock Market rally is far outpacing pas...</td>\n",
       "      <td>0.0625</td>\n",
       "      <td>2016-01-17</td>\n",
       "    </tr>\n",
       "    <tr>\n",
       "      <td>1</td>\n",
       "      <td>2016-01-12</td>\n",
       "      <td>10</td>\n",
       "      <td>0</td>\n",
       "      <td>0</td>\n",
       "      <td>“Trump stock market rally is far outpacing pas...</td>\n",
       "      <td>0.0000</td>\n",
       "      <td>2016-01-17</td>\n",
       "    </tr>\n",
       "    <tr>\n",
       "      <td>2</td>\n",
       "      <td>2016-01-12</td>\n",
       "      <td>5</td>\n",
       "      <td>1</td>\n",
       "      <td>0</td>\n",
       "      <td>Thank you Tammy. You are doing a GREAT job! ht...</td>\n",
       "      <td>0.2000</td>\n",
       "      <td>2016-01-17</td>\n",
       "    </tr>\n",
       "    <tr>\n",
       "      <td>3</td>\n",
       "      <td>2016-01-14</td>\n",
       "      <td>20</td>\n",
       "      <td>0</td>\n",
       "      <td>2</td>\n",
       "      <td>Governor Gavin N has done a really bad job on ...</td>\n",
       "      <td>-0.1000</td>\n",
       "      <td>2016-01-17</td>\n",
       "    </tr>\n",
       "    <tr>\n",
       "      <td>4</td>\n",
       "      <td>2016-01-19</td>\n",
       "      <td>11</td>\n",
       "      <td>0</td>\n",
       "      <td>0</td>\n",
       "      <td>“The Trump Administration Trump policies have ...</td>\n",
       "      <td>0.0000</td>\n",
       "      <td>2016-01-24</td>\n",
       "    </tr>\n",
       "    <tr>\n",
       "      <td>...</td>\n",
       "      <td>...</td>\n",
       "      <td>...</td>\n",
       "      <td>...</td>\n",
       "      <td>...</td>\n",
       "      <td>...</td>\n",
       "      <td>...</td>\n",
       "      <td>...</td>\n",
       "    </tr>\n",
       "    <tr>\n",
       "      <td>858</td>\n",
       "      <td>2019-12-24</td>\n",
       "      <td>11</td>\n",
       "      <td>0</td>\n",
       "      <td>0</td>\n",
       "      <td>“The Trump Administration Trump policies have ...</td>\n",
       "      <td>0.0000</td>\n",
       "      <td>2019-12-29</td>\n",
       "    </tr>\n",
       "    <tr>\n",
       "      <td>859</td>\n",
       "      <td>2019-12-25</td>\n",
       "      <td>20</td>\n",
       "      <td>0</td>\n",
       "      <td>2</td>\n",
       "      <td>Governor Gavin N has done a really bad job on ...</td>\n",
       "      <td>-0.1000</td>\n",
       "      <td>2019-12-29</td>\n",
       "    </tr>\n",
       "    <tr>\n",
       "      <td>860</td>\n",
       "      <td>2019-12-25</td>\n",
       "      <td>5</td>\n",
       "      <td>1</td>\n",
       "      <td>0</td>\n",
       "      <td>Thank you Tammy. You are doing a GREAT job! ht...</td>\n",
       "      <td>0.2000</td>\n",
       "      <td>2019-12-29</td>\n",
       "    </tr>\n",
       "    <tr>\n",
       "      <td>861</td>\n",
       "      <td>2019-12-26</td>\n",
       "      <td>10</td>\n",
       "      <td>0</td>\n",
       "      <td>0</td>\n",
       "      <td>“Trump stock market rally is far outpacing pas...</td>\n",
       "      <td>0.0000</td>\n",
       "      <td>2019-12-29</td>\n",
       "    </tr>\n",
       "    <tr>\n",
       "      <td>862</td>\n",
       "      <td>2019-12-27</td>\n",
       "      <td>16</td>\n",
       "      <td>1</td>\n",
       "      <td>0</td>\n",
       "      <td>“Trump Stock Market rally is far outpacing pas...</td>\n",
       "      <td>0.0625</td>\n",
       "      <td>2019-12-29</td>\n",
       "    </tr>\n",
       "  </tbody>\n",
       "</table>\n",
       "<p>863 rows × 7 columns</p>\n",
       "</div>"
      ],
      "text/plain": [
       "          date  nwords  npos  nneg  \\\n",
       "0   2016-01-11      16     1     0   \n",
       "1   2016-01-12      10     0     0   \n",
       "2   2016-01-12       5     1     0   \n",
       "3   2016-01-14      20     0     2   \n",
       "4   2016-01-19      11     0     0   \n",
       "..         ...     ...   ...   ...   \n",
       "858 2019-12-24      11     0     0   \n",
       "859 2019-12-25      20     0     2   \n",
       "860 2019-12-25       5     1     0   \n",
       "861 2019-12-26      10     0     0   \n",
       "862 2019-12-27      16     1     0   \n",
       "\n",
       "                                                  Text    sent  date_week  \n",
       "0    “Trump Stock Market rally is far outpacing pas...  0.0625 2016-01-17  \n",
       "1    “Trump stock market rally is far outpacing pas...  0.0000 2016-01-17  \n",
       "2    Thank you Tammy. You are doing a GREAT job! ht...  0.2000 2016-01-17  \n",
       "3    Governor Gavin N has done a really bad job on ... -0.1000 2016-01-17  \n",
       "4    “The Trump Administration Trump policies have ...  0.0000 2016-01-24  \n",
       "..                                                 ...     ...        ...  \n",
       "858  “The Trump Administration Trump policies have ...  0.0000 2019-12-29  \n",
       "859  Governor Gavin N has done a really bad job on ... -0.1000 2019-12-29  \n",
       "860  Thank you Tammy. You are doing a GREAT job! ht...  0.2000 2019-12-29  \n",
       "861  “Trump stock market rally is far outpacing pas...  0.0000 2019-12-29  \n",
       "862  “Trump Stock Market rally is far outpacing pas...  0.0625 2019-12-29  \n",
       "\n",
       "[863 rows x 7 columns]"
      ]
     },
     "execution_count": 11,
     "metadata": {},
     "output_type": "execute_result"
    }
   ],
   "source": [
    "from pandas.tseries.offsets import *\n",
    "sentscore['date_week'] = sentscore['date'] + Week(weekday=6)\n",
    "sentscore"
   ]
  },
  {
   "cell_type": "code",
   "execution_count": 12,
   "metadata": {},
   "outputs": [],
   "source": [
    "sentscore = sentscore.groupby(['date_week']).mean()\n",
    "sent = pd.DataFrame(data=sentscore)\n",
    "sent = sent[['sent']]"
   ]
  },
  {
   "cell_type": "code",
   "execution_count": 13,
   "metadata": {},
   "outputs": [
    {
     "data": {
      "text/plain": [
       "<matplotlib.lines.Line2D at 0x1a25a16910>"
      ]
     },
     "execution_count": 13,
     "metadata": {},
     "output_type": "execute_result"
    },
    {
     "data": {
      "image/png": "[encoded data removed]",
      "text/plain": [
       "<Figure size 432x288 with 1 Axes>"
      ]
     },
     "metadata": {
      "needs_background": "light"
     },
     "output_type": "display_data"
    }
   ],
   "source": [
    "# as you can see, news are mostly positive... That's what sells!\n",
    "sent['sent'].plot()\n",
    "plt.axhline(0, c='r', ls='--')"
   ]
  },
  {
   "cell_type": "code",
   "execution_count": 14,
   "metadata": {},
   "outputs": [],
   "source": [
    "# we use Quandl for data\n",
    "import quandl\n",
    "quandl.ApiConfig.api_key = 'xvincsYagVjR1qji2QMR'\n",
    "\n",
    "# I chose Tsla for an example \n",
    "dj_rtn = quandl.get(\"EOD/DIA\", collapse=\"weekly\", start_date =\"2016-01-01\", end_date=\"2020-01-05\").pct_change() #Data for the DJIA\n",
    "dj_price = quandl.get(\"EOD/DIA\", collapse=\"weekly\")"
   ]
  },
  {
   "cell_type": "code",
   "execution_count": 15,
   "metadata": {
    "scrolled": true
   },
   "outputs": [
    {
     "data": {
      "text/html": [
       "<div>\n",
       "<style scoped>\n",
       "    .dataframe tbody tr th:only-of-type {\n",
       "        vertical-align: middle;\n",
       "    }\n",
       "\n",
       "    .dataframe tbody tr th {\n",
       "        vertical-align: top;\n",
       "    }\n",
       "\n",
       "    .dataframe thead th {\n",
       "        text-align: right;\n",
       "    }\n",
       "</style>\n",
       "<table border=\"1\" class=\"dataframe\">\n",
       "  <thead>\n",
       "    <tr style=\"text-align: right;\">\n",
       "      <th></th>\n",
       "      <th>date_week</th>\n",
       "      <th>Open</th>\n",
       "      <th>High</th>\n",
       "      <th>Low</th>\n",
       "      <th>Close</th>\n",
       "      <th>Volume</th>\n",
       "      <th>Dividend</th>\n",
       "      <th>Split</th>\n",
       "      <th>Adj_Open</th>\n",
       "      <th>Adj_High</th>\n",
       "      <th>Adj_Low</th>\n",
       "      <th>Adj_Close</th>\n",
       "      <th>Adj_Volume</th>\n",
       "    </tr>\n",
       "  </thead>\n",
       "  <tbody>\n",
       "    <tr>\n",
       "      <td>0</td>\n",
       "      <td>2016-01-10</td>\n",
       "      <td>NaN</td>\n",
       "      <td>NaN</td>\n",
       "      <td>NaN</td>\n",
       "      <td>NaN</td>\n",
       "      <td>NaN</td>\n",
       "      <td>NaN</td>\n",
       "      <td>NaN</td>\n",
       "      <td>NaN</td>\n",
       "      <td>NaN</td>\n",
       "      <td>NaN</td>\n",
       "      <td>NaN</td>\n",
       "      <td>NaN</td>\n",
       "    </tr>\n",
       "    <tr>\n",
       "      <td>1</td>\n",
       "      <td>2016-01-17</td>\n",
       "      <td>-0.040371</td>\n",
       "      <td>-0.034918</td>\n",
       "      <td>-0.029264</td>\n",
       "      <td>-0.021808</td>\n",
       "      <td>0.596453</td>\n",
       "      <td>inf</td>\n",
       "      <td>0.0</td>\n",
       "      <td>-0.039855</td>\n",
       "      <td>-0.034399</td>\n",
       "      <td>-0.028742</td>\n",
       "      <td>-0.021282</td>\n",
       "      <td>0.596453</td>\n",
       "    </tr>\n",
       "    <tr>\n",
       "      <td>2</td>\n",
       "      <td>2016-01-24</td>\n",
       "      <td>0.010360</td>\n",
       "      <td>0.004110</td>\n",
       "      <td>0.008785</td>\n",
       "      <td>0.006951</td>\n",
       "      <td>-0.629923</td>\n",
       "      <td>-1.0</td>\n",
       "      <td>0.0</td>\n",
       "      <td>0.010360</td>\n",
       "      <td>0.004110</td>\n",
       "      <td>0.008785</td>\n",
       "      <td>0.006951</td>\n",
       "      <td>-0.629923</td>\n",
       "    </tr>\n",
       "    <tr>\n",
       "      <td>3</td>\n",
       "      <td>2016-01-31</td>\n",
       "      <td>0.004350</td>\n",
       "      <td>0.019784</td>\n",
       "      <td>0.010713</td>\n",
       "      <td>0.022265</td>\n",
       "      <td>-0.163616</td>\n",
       "      <td>NaN</td>\n",
       "      <td>0.0</td>\n",
       "      <td>0.004350</td>\n",
       "      <td>0.019784</td>\n",
       "      <td>0.010713</td>\n",
       "      <td>0.022265</td>\n",
       "      <td>-0.163616</td>\n",
       "    </tr>\n",
       "    <tr>\n",
       "      <td>4</td>\n",
       "      <td>2016-02-07</td>\n",
       "      <td>0.013984</td>\n",
       "      <td>-0.002554</td>\n",
       "      <td>-0.000682</td>\n",
       "      <td>-0.014784</td>\n",
       "      <td>0.341608</td>\n",
       "      <td>NaN</td>\n",
       "      <td>0.0</td>\n",
       "      <td>0.013984</td>\n",
       "      <td>-0.002554</td>\n",
       "      <td>-0.000682</td>\n",
       "      <td>-0.014784</td>\n",
       "      <td>0.341608</td>\n",
       "    </tr>\n",
       "    <tr>\n",
       "      <td>...</td>\n",
       "      <td>...</td>\n",
       "      <td>...</td>\n",
       "      <td>...</td>\n",
       "      <td>...</td>\n",
       "      <td>...</td>\n",
       "      <td>...</td>\n",
       "      <td>...</td>\n",
       "      <td>...</td>\n",
       "      <td>...</td>\n",
       "      <td>...</td>\n",
       "      <td>...</td>\n",
       "      <td>...</td>\n",
       "      <td>...</td>\n",
       "    </tr>\n",
       "    <tr>\n",
       "      <td>204</td>\n",
       "      <td>2019-12-08</td>\n",
       "      <td>-0.006541</td>\n",
       "      <td>-0.002237</td>\n",
       "      <td>-0.005170</td>\n",
       "      <td>-0.000890</td>\n",
       "      <td>2.308697</td>\n",
       "      <td>NaN</td>\n",
       "      <td>0.0</td>\n",
       "      <td>-0.006541</td>\n",
       "      <td>-0.002237</td>\n",
       "      <td>-0.005170</td>\n",
       "      <td>-0.000890</td>\n",
       "      <td>2.308697</td>\n",
       "    </tr>\n",
       "    <tr>\n",
       "      <td>205</td>\n",
       "      <td>2019-12-15</td>\n",
       "      <td>0.008875</td>\n",
       "      <td>0.009504</td>\n",
       "      <td>0.005769</td>\n",
       "      <td>0.005023</td>\n",
       "      <td>0.141167</td>\n",
       "      <td>NaN</td>\n",
       "      <td>0.0</td>\n",
       "      <td>0.008875</td>\n",
       "      <td>0.009504</td>\n",
       "      <td>0.005769</td>\n",
       "      <td>0.005023</td>\n",
       "      <td>0.141167</td>\n",
       "    </tr>\n",
       "    <tr>\n",
       "      <td>206</td>\n",
       "      <td>2019-12-22</td>\n",
       "      <td>0.010038</td>\n",
       "      <td>0.005107</td>\n",
       "      <td>0.011815</td>\n",
       "      <td>0.008330</td>\n",
       "      <td>0.186413</td>\n",
       "      <td>inf</td>\n",
       "      <td>0.0</td>\n",
       "      <td>0.013113</td>\n",
       "      <td>0.008167</td>\n",
       "      <td>0.014895</td>\n",
       "      <td>0.011400</td>\n",
       "      <td>0.186413</td>\n",
       "    </tr>\n",
       "    <tr>\n",
       "      <td>207</td>\n",
       "      <td>2019-12-29</td>\n",
       "      <td>0.007269</td>\n",
       "      <td>0.006285</td>\n",
       "      <td>0.005557</td>\n",
       "      <td>0.006574</td>\n",
       "      <td>-0.469438</td>\n",
       "      <td>-1.0</td>\n",
       "      <td>0.0</td>\n",
       "      <td>0.007269</td>\n",
       "      <td>0.006285</td>\n",
       "      <td>0.005557</td>\n",
       "      <td>0.006574</td>\n",
       "      <td>-0.469438</td>\n",
       "    </tr>\n",
       "    <tr>\n",
       "      <td>208</td>\n",
       "      <td>2020-01-05</td>\n",
       "      <td>-0.005195</td>\n",
       "      <td>0.000906</td>\n",
       "      <td>-0.002518</td>\n",
       "      <td>-0.000035</td>\n",
       "      <td>0.708447</td>\n",
       "      <td>NaN</td>\n",
       "      <td>0.0</td>\n",
       "      <td>-0.005195</td>\n",
       "      <td>0.000906</td>\n",
       "      <td>-0.002518</td>\n",
       "      <td>-0.000035</td>\n",
       "      <td>0.708447</td>\n",
       "    </tr>\n",
       "  </tbody>\n",
       "</table>\n",
       "<p>209 rows × 13 columns</p>\n",
       "</div>"
      ],
      "text/plain": [
       "     date_week      Open      High       Low     Close    Volume  Dividend  \\\n",
       "0   2016-01-10       NaN       NaN       NaN       NaN       NaN       NaN   \n",
       "1   2016-01-17 -0.040371 -0.034918 -0.029264 -0.021808  0.596453       inf   \n",
       "2   2016-01-24  0.010360  0.004110  0.008785  0.006951 -0.629923      -1.0   \n",
       "3   2016-01-31  0.004350  0.019784  0.010713  0.022265 -0.163616       NaN   \n",
       "4   2016-02-07  0.013984 -0.002554 -0.000682 -0.014784  0.341608       NaN   \n",
       "..         ...       ...       ...       ...       ...       ...       ...   \n",
       "204 2019-12-08 -0.006541 -0.002237 -0.005170 -0.000890  2.308697       NaN   \n",
       "205 2019-12-15  0.008875  0.009504  0.005769  0.005023  0.141167       NaN   \n",
       "206 2019-12-22  0.010038  0.005107  0.011815  0.008330  0.186413       inf   \n",
       "207 2019-12-29  0.007269  0.006285  0.005557  0.006574 -0.469438      -1.0   \n",
       "208 2020-01-05 -0.005195  0.000906 -0.002518 -0.000035  0.708447       NaN   \n",
       "\n",
       "     Split  Adj_Open  Adj_High   Adj_Low  Adj_Close  Adj_Volume  \n",
       "0      NaN       NaN       NaN       NaN        NaN         NaN  \n",
       "1      0.0 -0.039855 -0.034399 -0.028742  -0.021282    0.596453  \n",
       "2      0.0  0.010360  0.004110  0.008785   0.006951   -0.629923  \n",
       "3      0.0  0.004350  0.019784  0.010713   0.022265   -0.163616  \n",
       "4      0.0  0.013984 -0.002554 -0.000682  -0.014784    0.341608  \n",
       "..     ...       ...       ...       ...        ...         ...  \n",
       "204    0.0 -0.006541 -0.002237 -0.005170  -0.000890    2.308697  \n",
       "205    0.0  0.008875  0.009504  0.005769   0.005023    0.141167  \n",
       "206    0.0  0.013113  0.008167  0.014895   0.011400    0.186413  \n",
       "207    0.0  0.007269  0.006285  0.005557   0.006574   -0.469438  \n",
       "208    0.0 -0.005195  0.000906 -0.002518  -0.000035    0.708447  \n",
       "\n",
       "[209 rows x 13 columns]"
      ]
     },
     "execution_count": 15,
     "metadata": {},
     "output_type": "execute_result"
    }
   ],
   "source": [
    "dj_rtn = dj_rtn.reset_index()\n",
    "dj_rtn = dj_rtn.rename(columns={'Date':'date_week'})\n",
    "dj_rtn"
   ]
  },
  {
   "cell_type": "code",
   "execution_count": 16,
   "metadata": {},
   "outputs": [
    {
     "data": {
      "text/html": [
       "<div>\n",
       "<style scoped>\n",
       "    .dataframe tbody tr th:only-of-type {\n",
       "        vertical-align: middle;\n",
       "    }\n",
       "\n",
       "    .dataframe tbody tr th {\n",
       "        vertical-align: top;\n",
       "    }\n",
       "\n",
       "    .dataframe thead th {\n",
       "        text-align: right;\n",
       "    }\n",
       "</style>\n",
       "<table border=\"1\" class=\"dataframe\">\n",
       "  <thead>\n",
       "    <tr style=\"text-align: right;\">\n",
       "      <th></th>\n",
       "      <th>date_week</th>\n",
       "      <th>Open</th>\n",
       "      <th>High</th>\n",
       "      <th>Low</th>\n",
       "      <th>Close</th>\n",
       "      <th>Volume</th>\n",
       "      <th>Dividend</th>\n",
       "      <th>Split</th>\n",
       "      <th>Adj_Open</th>\n",
       "      <th>Adj_High</th>\n",
       "      <th>Adj_Low</th>\n",
       "      <th>Adj_Close</th>\n",
       "      <th>Adj_Volume</th>\n",
       "      <th>sent</th>\n",
       "    </tr>\n",
       "  </thead>\n",
       "  <tbody>\n",
       "    <tr>\n",
       "      <td>0</td>\n",
       "      <td>2016-01-10</td>\n",
       "      <td>NaN</td>\n",
       "      <td>NaN</td>\n",
       "      <td>NaN</td>\n",
       "      <td>NaN</td>\n",
       "      <td>NaN</td>\n",
       "      <td>NaN</td>\n",
       "      <td>NaN</td>\n",
       "      <td>NaN</td>\n",
       "      <td>NaN</td>\n",
       "      <td>NaN</td>\n",
       "      <td>NaN</td>\n",
       "      <td>NaN</td>\n",
       "      <td>NaN</td>\n",
       "    </tr>\n",
       "    <tr>\n",
       "      <td>1</td>\n",
       "      <td>2016-01-17</td>\n",
       "      <td>-0.040371</td>\n",
       "      <td>-0.034918</td>\n",
       "      <td>-0.029264</td>\n",
       "      <td>-0.021808</td>\n",
       "      <td>0.596453</td>\n",
       "      <td>inf</td>\n",
       "      <td>0.0</td>\n",
       "      <td>-0.039855</td>\n",
       "      <td>-0.034399</td>\n",
       "      <td>-0.028742</td>\n",
       "      <td>-0.021282</td>\n",
       "      <td>0.596453</td>\n",
       "      <td>0.040625</td>\n",
       "    </tr>\n",
       "    <tr>\n",
       "      <td>2</td>\n",
       "      <td>2016-01-24</td>\n",
       "      <td>0.010360</td>\n",
       "      <td>0.004110</td>\n",
       "      <td>0.008785</td>\n",
       "      <td>0.006951</td>\n",
       "      <td>-0.629923</td>\n",
       "      <td>-1.0</td>\n",
       "      <td>0.0</td>\n",
       "      <td>0.010360</td>\n",
       "      <td>0.004110</td>\n",
       "      <td>0.008785</td>\n",
       "      <td>0.006951</td>\n",
       "      <td>-0.629923</td>\n",
       "      <td>0.062865</td>\n",
       "    </tr>\n",
       "    <tr>\n",
       "      <td>3</td>\n",
       "      <td>2016-01-31</td>\n",
       "      <td>0.004350</td>\n",
       "      <td>0.019784</td>\n",
       "      <td>0.010713</td>\n",
       "      <td>0.022265</td>\n",
       "      <td>-0.163616</td>\n",
       "      <td>NaN</td>\n",
       "      <td>0.0</td>\n",
       "      <td>0.004350</td>\n",
       "      <td>0.019784</td>\n",
       "      <td>0.010713</td>\n",
       "      <td>0.022265</td>\n",
       "      <td>-0.163616</td>\n",
       "      <td>NaN</td>\n",
       "    </tr>\n",
       "    <tr>\n",
       "      <td>4</td>\n",
       "      <td>2016-02-07</td>\n",
       "      <td>0.013984</td>\n",
       "      <td>-0.002554</td>\n",
       "      <td>-0.000682</td>\n",
       "      <td>-0.014784</td>\n",
       "      <td>0.341608</td>\n",
       "      <td>NaN</td>\n",
       "      <td>0.0</td>\n",
       "      <td>0.013984</td>\n",
       "      <td>-0.002554</td>\n",
       "      <td>-0.000682</td>\n",
       "      <td>-0.014784</td>\n",
       "      <td>0.341608</td>\n",
       "      <td>0.188034</td>\n",
       "    </tr>\n",
       "    <tr>\n",
       "      <td>...</td>\n",
       "      <td>...</td>\n",
       "      <td>...</td>\n",
       "      <td>...</td>\n",
       "      <td>...</td>\n",
       "      <td>...</td>\n",
       "      <td>...</td>\n",
       "      <td>...</td>\n",
       "      <td>...</td>\n",
       "      <td>...</td>\n",
       "      <td>...</td>\n",
       "      <td>...</td>\n",
       "      <td>...</td>\n",
       "      <td>...</td>\n",
       "      <td>...</td>\n",
       "    </tr>\n",
       "    <tr>\n",
       "      <td>204</td>\n",
       "      <td>2019-12-08</td>\n",
       "      <td>-0.006541</td>\n",
       "      <td>-0.002237</td>\n",
       "      <td>-0.005170</td>\n",
       "      <td>-0.000890</td>\n",
       "      <td>2.308697</td>\n",
       "      <td>NaN</td>\n",
       "      <td>0.0</td>\n",
       "      <td>-0.006541</td>\n",
       "      <td>-0.002237</td>\n",
       "      <td>-0.005170</td>\n",
       "      <td>-0.000890</td>\n",
       "      <td>2.308697</td>\n",
       "      <td>0.015334</td>\n",
       "    </tr>\n",
       "    <tr>\n",
       "      <td>205</td>\n",
       "      <td>2019-12-15</td>\n",
       "      <td>0.008875</td>\n",
       "      <td>0.009504</td>\n",
       "      <td>0.005769</td>\n",
       "      <td>0.005023</td>\n",
       "      <td>0.141167</td>\n",
       "      <td>NaN</td>\n",
       "      <td>0.0</td>\n",
       "      <td>0.008875</td>\n",
       "      <td>0.009504</td>\n",
       "      <td>0.005769</td>\n",
       "      <td>0.005023</td>\n",
       "      <td>0.141167</td>\n",
       "      <td>0.071404</td>\n",
       "    </tr>\n",
       "    <tr>\n",
       "      <td>206</td>\n",
       "      <td>2019-12-22</td>\n",
       "      <td>0.010038</td>\n",
       "      <td>0.005107</td>\n",
       "      <td>0.011815</td>\n",
       "      <td>0.008330</td>\n",
       "      <td>0.186413</td>\n",
       "      <td>inf</td>\n",
       "      <td>0.0</td>\n",
       "      <td>0.013113</td>\n",
       "      <td>0.008167</td>\n",
       "      <td>0.014895</td>\n",
       "      <td>0.011400</td>\n",
       "      <td>0.186413</td>\n",
       "      <td>0.059034</td>\n",
       "    </tr>\n",
       "    <tr>\n",
       "      <td>207</td>\n",
       "      <td>2019-12-29</td>\n",
       "      <td>0.007269</td>\n",
       "      <td>0.006285</td>\n",
       "      <td>0.005557</td>\n",
       "      <td>0.006574</td>\n",
       "      <td>-0.469438</td>\n",
       "      <td>-1.0</td>\n",
       "      <td>0.0</td>\n",
       "      <td>0.007269</td>\n",
       "      <td>0.006285</td>\n",
       "      <td>0.005557</td>\n",
       "      <td>0.006574</td>\n",
       "      <td>-0.469438</td>\n",
       "      <td>0.035855</td>\n",
       "    </tr>\n",
       "    <tr>\n",
       "      <td>208</td>\n",
       "      <td>2020-01-05</td>\n",
       "      <td>-0.005195</td>\n",
       "      <td>0.000906</td>\n",
       "      <td>-0.002518</td>\n",
       "      <td>-0.000035</td>\n",
       "      <td>0.708447</td>\n",
       "      <td>NaN</td>\n",
       "      <td>0.0</td>\n",
       "      <td>-0.005195</td>\n",
       "      <td>0.000906</td>\n",
       "      <td>-0.002518</td>\n",
       "      <td>-0.000035</td>\n",
       "      <td>0.708447</td>\n",
       "      <td>NaN</td>\n",
       "    </tr>\n",
       "  </tbody>\n",
       "</table>\n",
       "<p>209 rows × 14 columns</p>\n",
       "</div>"
      ],
      "text/plain": [
       "     date_week      Open      High       Low     Close    Volume  Dividend  \\\n",
       "0   2016-01-10       NaN       NaN       NaN       NaN       NaN       NaN   \n",
       "1   2016-01-17 -0.040371 -0.034918 -0.029264 -0.021808  0.596453       inf   \n",
       "2   2016-01-24  0.010360  0.004110  0.008785  0.006951 -0.629923      -1.0   \n",
       "3   2016-01-31  0.004350  0.019784  0.010713  0.022265 -0.163616       NaN   \n",
       "4   2016-02-07  0.013984 -0.002554 -0.000682 -0.014784  0.341608       NaN   \n",
       "..         ...       ...       ...       ...       ...       ...       ...   \n",
       "204 2019-12-08 -0.006541 -0.002237 -0.005170 -0.000890  2.308697       NaN   \n",
       "205 2019-12-15  0.008875  0.009504  0.005769  0.005023  0.141167       NaN   \n",
       "206 2019-12-22  0.010038  0.005107  0.011815  0.008330  0.186413       inf   \n",
       "207 2019-12-29  0.007269  0.006285  0.005557  0.006574 -0.469438      -1.0   \n",
       "208 2020-01-05 -0.005195  0.000906 -0.002518 -0.000035  0.708447       NaN   \n",
       "\n",
       "     Split  Adj_Open  Adj_High   Adj_Low  Adj_Close  Adj_Volume      sent  \n",
       "0      NaN       NaN       NaN       NaN        NaN         NaN       NaN  \n",
       "1      0.0 -0.039855 -0.034399 -0.028742  -0.021282    0.596453  0.040625  \n",
       "2      0.0  0.010360  0.004110  0.008785   0.006951   -0.629923  0.062865  \n",
       "3      0.0  0.004350  0.019784  0.010713   0.022265   -0.163616       NaN  \n",
       "4      0.0  0.013984 -0.002554 -0.000682  -0.014784    0.341608  0.188034  \n",
       "..     ...       ...       ...       ...        ...         ...       ...  \n",
       "204    0.0 -0.006541 -0.002237 -0.005170  -0.000890    2.308697  0.015334  \n",
       "205    0.0  0.008875  0.009504  0.005769   0.005023    0.141167  0.071404  \n",
       "206    0.0  0.013113  0.008167  0.014895   0.011400    0.186413  0.059034  \n",
       "207    0.0  0.007269  0.006285  0.005557   0.006574   -0.469438  0.035855  \n",
       "208    0.0 -0.005195  0.000906 -0.002518  -0.000035    0.708447       NaN  \n",
       "\n",
       "[209 rows x 14 columns]"
      ]
     },
     "execution_count": 16,
     "metadata": {},
     "output_type": "execute_result"
    }
   ],
   "source": [
    "dataset = pd.merge(dj_rtn, sent, on=['date_week'], how='left')\n",
    "dataset"
   ]
  },
  {
   "cell_type": "code",
   "execution_count": 17,
   "metadata": {},
   "outputs": [],
   "source": [
    "trumpset = dataset[['date_week', 'Adj_Close', 'Adj_Volume', 'sent']]"
   ]
  },
  {
   "cell_type": "code",
   "execution_count": 18,
   "metadata": {},
   "outputs": [],
   "source": [
    "trumpset = trumpset.fillna(0)"
   ]
  },
  {
   "cell_type": "code",
   "execution_count": 19,
   "metadata": {},
   "outputs": [
    {
     "data": {
      "text/html": [
       "<div>\n",
       "<style scoped>\n",
       "    .dataframe tbody tr th:only-of-type {\n",
       "        vertical-align: middle;\n",
       "    }\n",
       "\n",
       "    .dataframe tbody tr th {\n",
       "        vertical-align: top;\n",
       "    }\n",
       "\n",
       "    .dataframe thead th {\n",
       "        text-align: right;\n",
       "    }\n",
       "</style>\n",
       "<table border=\"1\" class=\"dataframe\">\n",
       "  <thead>\n",
       "    <tr style=\"text-align: right;\">\n",
       "      <th></th>\n",
       "      <th>date_week</th>\n",
       "      <th>Adj_Close</th>\n",
       "      <th>Adj_Volume</th>\n",
       "      <th>sent</th>\n",
       "    </tr>\n",
       "  </thead>\n",
       "  <tbody>\n",
       "    <tr>\n",
       "      <td>0</td>\n",
       "      <td>2016-01-10</td>\n",
       "      <td>0.000000</td>\n",
       "      <td>0.000000</td>\n",
       "      <td>0.000000</td>\n",
       "    </tr>\n",
       "    <tr>\n",
       "      <td>1</td>\n",
       "      <td>2016-01-17</td>\n",
       "      <td>-0.021282</td>\n",
       "      <td>0.596453</td>\n",
       "      <td>0.040625</td>\n",
       "    </tr>\n",
       "    <tr>\n",
       "      <td>2</td>\n",
       "      <td>2016-01-24</td>\n",
       "      <td>0.006951</td>\n",
       "      <td>-0.629923</td>\n",
       "      <td>0.062865</td>\n",
       "    </tr>\n",
       "    <tr>\n",
       "      <td>3</td>\n",
       "      <td>2016-01-31</td>\n",
       "      <td>0.022265</td>\n",
       "      <td>-0.163616</td>\n",
       "      <td>0.000000</td>\n",
       "    </tr>\n",
       "    <tr>\n",
       "      <td>4</td>\n",
       "      <td>2016-02-07</td>\n",
       "      <td>-0.014784</td>\n",
       "      <td>0.341608</td>\n",
       "      <td>0.188034</td>\n",
       "    </tr>\n",
       "    <tr>\n",
       "      <td>...</td>\n",
       "      <td>...</td>\n",
       "      <td>...</td>\n",
       "      <td>...</td>\n",
       "      <td>...</td>\n",
       "    </tr>\n",
       "    <tr>\n",
       "      <td>204</td>\n",
       "      <td>2019-12-08</td>\n",
       "      <td>-0.000890</td>\n",
       "      <td>2.308697</td>\n",
       "      <td>0.015334</td>\n",
       "    </tr>\n",
       "    <tr>\n",
       "      <td>205</td>\n",
       "      <td>2019-12-15</td>\n",
       "      <td>0.005023</td>\n",
       "      <td>0.141167</td>\n",
       "      <td>0.071404</td>\n",
       "    </tr>\n",
       "    <tr>\n",
       "      <td>206</td>\n",
       "      <td>2019-12-22</td>\n",
       "      <td>0.011400</td>\n",
       "      <td>0.186413</td>\n",
       "      <td>0.059034</td>\n",
       "    </tr>\n",
       "    <tr>\n",
       "      <td>207</td>\n",
       "      <td>2019-12-29</td>\n",
       "      <td>0.006574</td>\n",
       "      <td>-0.469438</td>\n",
       "      <td>0.035855</td>\n",
       "    </tr>\n",
       "    <tr>\n",
       "      <td>208</td>\n",
       "      <td>2020-01-05</td>\n",
       "      <td>-0.000035</td>\n",
       "      <td>0.708447</td>\n",
       "      <td>0.000000</td>\n",
       "    </tr>\n",
       "  </tbody>\n",
       "</table>\n",
       "<p>209 rows × 4 columns</p>\n",
       "</div>"
      ],
      "text/plain": [
       "     date_week  Adj_Close  Adj_Volume      sent\n",
       "0   2016-01-10   0.000000    0.000000  0.000000\n",
       "1   2016-01-17  -0.021282    0.596453  0.040625\n",
       "2   2016-01-24   0.006951   -0.629923  0.062865\n",
       "3   2016-01-31   0.022265   -0.163616  0.000000\n",
       "4   2016-02-07  -0.014784    0.341608  0.188034\n",
       "..         ...        ...         ...       ...\n",
       "204 2019-12-08  -0.000890    2.308697  0.015334\n",
       "205 2019-12-15   0.005023    0.141167  0.071404\n",
       "206 2019-12-22   0.011400    0.186413  0.059034\n",
       "207 2019-12-29   0.006574   -0.469438  0.035855\n",
       "208 2020-01-05  -0.000035    0.708447  0.000000\n",
       "\n",
       "[209 rows x 4 columns]"
      ]
     },
     "execution_count": 19,
     "metadata": {},
     "output_type": "execute_result"
    }
   ],
   "source": [
    "trumpset"
   ]
  },
  {
   "cell_type": "code",
   "execution_count": 20,
   "metadata": {},
   "outputs": [],
   "source": [
    "#Finding the tweet index helps us compare the series between the returns\n",
    "trumpset['tweet_rtn_index'] = trumpset['Adj_Close'] * trumpset['sent']\n",
    "trumpset['tweet_vol_index'] = trumpset['Adj_Volume'] * trumpset['sent']"
   ]
  },
  {
   "cell_type": "code",
   "execution_count": 21,
   "metadata": {
    "scrolled": true
   },
   "outputs": [
    {
     "data": {
      "text/html": [
       "<div>\n",
       "<style scoped>\n",
       "    .dataframe tbody tr th:only-of-type {\n",
       "        vertical-align: middle;\n",
       "    }\n",
       "\n",
       "    .dataframe tbody tr th {\n",
       "        vertical-align: top;\n",
       "    }\n",
       "\n",
       "    .dataframe thead th {\n",
       "        text-align: right;\n",
       "    }\n",
       "</style>\n",
       "<table border=\"1\" class=\"dataframe\">\n",
       "  <thead>\n",
       "    <tr style=\"text-align: right;\">\n",
       "      <th></th>\n",
       "      <th>Adj_Close</th>\n",
       "      <th>Adj_Volume</th>\n",
       "      <th>tweet_rtn_index</th>\n",
       "      <th>tweet_vol_index</th>\n",
       "    </tr>\n",
       "    <tr>\n",
       "      <th>date_week</th>\n",
       "      <th></th>\n",
       "      <th></th>\n",
       "      <th></th>\n",
       "      <th></th>\n",
       "    </tr>\n",
       "  </thead>\n",
       "  <tbody>\n",
       "    <tr>\n",
       "      <td>2016-01-10</td>\n",
       "      <td>0.000000</td>\n",
       "      <td>0.000000</td>\n",
       "      <td>0.000000</td>\n",
       "      <td>0.000000</td>\n",
       "    </tr>\n",
       "    <tr>\n",
       "      <td>2016-01-17</td>\n",
       "      <td>-0.021282</td>\n",
       "      <td>0.596453</td>\n",
       "      <td>-0.000865</td>\n",
       "      <td>0.024231</td>\n",
       "    </tr>\n",
       "    <tr>\n",
       "      <td>2016-01-24</td>\n",
       "      <td>0.006951</td>\n",
       "      <td>-0.629923</td>\n",
       "      <td>0.000437</td>\n",
       "      <td>-0.039600</td>\n",
       "    </tr>\n",
       "    <tr>\n",
       "      <td>2016-01-31</td>\n",
       "      <td>0.022265</td>\n",
       "      <td>-0.163616</td>\n",
       "      <td>0.000000</td>\n",
       "      <td>-0.000000</td>\n",
       "    </tr>\n",
       "    <tr>\n",
       "      <td>2016-02-07</td>\n",
       "      <td>-0.014784</td>\n",
       "      <td>0.341608</td>\n",
       "      <td>-0.002780</td>\n",
       "      <td>0.064234</td>\n",
       "    </tr>\n",
       "    <tr>\n",
       "      <td>...</td>\n",
       "      <td>...</td>\n",
       "      <td>...</td>\n",
       "      <td>...</td>\n",
       "      <td>...</td>\n",
       "    </tr>\n",
       "    <tr>\n",
       "      <td>2019-12-08</td>\n",
       "      <td>-0.000890</td>\n",
       "      <td>2.308697</td>\n",
       "      <td>-0.000014</td>\n",
       "      <td>0.035401</td>\n",
       "    </tr>\n",
       "    <tr>\n",
       "      <td>2019-12-15</td>\n",
       "      <td>0.005023</td>\n",
       "      <td>0.141167</td>\n",
       "      <td>0.000359</td>\n",
       "      <td>0.010080</td>\n",
       "    </tr>\n",
       "    <tr>\n",
       "      <td>2019-12-22</td>\n",
       "      <td>0.011400</td>\n",
       "      <td>0.186413</td>\n",
       "      <td>0.000673</td>\n",
       "      <td>0.011005</td>\n",
       "    </tr>\n",
       "    <tr>\n",
       "      <td>2019-12-29</td>\n",
       "      <td>0.006574</td>\n",
       "      <td>-0.469438</td>\n",
       "      <td>0.000236</td>\n",
       "      <td>-0.016832</td>\n",
       "    </tr>\n",
       "    <tr>\n",
       "      <td>2020-01-05</td>\n",
       "      <td>-0.000035</td>\n",
       "      <td>0.708447</td>\n",
       "      <td>-0.000000</td>\n",
       "      <td>0.000000</td>\n",
       "    </tr>\n",
       "  </tbody>\n",
       "</table>\n",
       "<p>209 rows × 4 columns</p>\n",
       "</div>"
      ],
      "text/plain": [
       "            Adj_Close  Adj_Volume  tweet_rtn_index  tweet_vol_index\n",
       "date_week                                                          \n",
       "2016-01-10   0.000000    0.000000         0.000000         0.000000\n",
       "2016-01-17  -0.021282    0.596453        -0.000865         0.024231\n",
       "2016-01-24   0.006951   -0.629923         0.000437        -0.039600\n",
       "2016-01-31   0.022265   -0.163616         0.000000        -0.000000\n",
       "2016-02-07  -0.014784    0.341608        -0.002780         0.064234\n",
       "...               ...         ...              ...              ...\n",
       "2019-12-08  -0.000890    2.308697        -0.000014         0.035401\n",
       "2019-12-15   0.005023    0.141167         0.000359         0.010080\n",
       "2019-12-22   0.011400    0.186413         0.000673         0.011005\n",
       "2019-12-29   0.006574   -0.469438         0.000236        -0.016832\n",
       "2020-01-05  -0.000035    0.708447        -0.000000         0.000000\n",
       "\n",
       "[209 rows x 4 columns]"
      ]
     },
     "execution_count": 21,
     "metadata": {},
     "output_type": "execute_result"
    }
   ],
   "source": [
    "tweets = trumpset[['date_week','Adj_Close', 'Adj_Volume','tweet_rtn_index', 'tweet_vol_index']]\n",
    "tweets.set_index('date_week')"
   ]
  },
  {
   "cell_type": "code",
   "execution_count": 22,
   "metadata": {},
   "outputs": [
    {
     "data": {
      "text/html": [
       "<div>\n",
       "<style scoped>\n",
       "    .dataframe tbody tr th:only-of-type {\n",
       "        vertical-align: middle;\n",
       "    }\n",
       "\n",
       "    .dataframe tbody tr th {\n",
       "        vertical-align: top;\n",
       "    }\n",
       "\n",
       "    .dataframe thead th {\n",
       "        text-align: right;\n",
       "    }\n",
       "</style>\n",
       "<table border=\"1\" class=\"dataframe\">\n",
       "  <thead>\n",
       "    <tr style=\"text-align: right;\">\n",
       "      <th></th>\n",
       "      <th>Adj_Close</th>\n",
       "      <th>Adj_Volume</th>\n",
       "      <th>tweet_rtn_index</th>\n",
       "      <th>tweet_vol_index</th>\n",
       "    </tr>\n",
       "  </thead>\n",
       "  <tbody>\n",
       "    <tr>\n",
       "      <td>Adj_Close</td>\n",
       "      <td>1.000000</td>\n",
       "      <td>-0.167464</td>\n",
       "      <td>0.511990</td>\n",
       "      <td>-0.083347</td>\n",
       "    </tr>\n",
       "    <tr>\n",
       "      <td>Adj_Volume</td>\n",
       "      <td>-0.167464</td>\n",
       "      <td>1.000000</td>\n",
       "      <td>-0.102625</td>\n",
       "      <td>0.507076</td>\n",
       "    </tr>\n",
       "    <tr>\n",
       "      <td>tweet_rtn_index</td>\n",
       "      <td>0.511990</td>\n",
       "      <td>-0.102625</td>\n",
       "      <td>1.000000</td>\n",
       "      <td>-0.239907</td>\n",
       "    </tr>\n",
       "    <tr>\n",
       "      <td>tweet_vol_index</td>\n",
       "      <td>-0.083347</td>\n",
       "      <td>0.507076</td>\n",
       "      <td>-0.239907</td>\n",
       "      <td>1.000000</td>\n",
       "    </tr>\n",
       "  </tbody>\n",
       "</table>\n",
       "</div>"
      ],
      "text/plain": [
       "                 Adj_Close  Adj_Volume  tweet_rtn_index  tweet_vol_index\n",
       "Adj_Close         1.000000   -0.167464         0.511990        -0.083347\n",
       "Adj_Volume       -0.167464    1.000000        -0.102625         0.507076\n",
       "tweet_rtn_index   0.511990   -0.102625         1.000000        -0.239907\n",
       "tweet_vol_index  -0.083347    0.507076        -0.239907         1.000000"
      ]
     },
     "execution_count": 22,
     "metadata": {},
     "output_type": "execute_result"
    }
   ],
   "source": [
    "#Correlation between Adj_Close and tweet Index\n",
    "tweets.rank()\n",
    "tweets.corr('kendall')"
   ]
  },
  {
   "cell_type": "code",
   "execution_count": 23,
   "metadata": {},
   "outputs": [
    {
     "data": {
      "image/png": "[encoded data removed]",
      "text/plain": [
       "<Figure size 432x288 with 1 Axes>"
      ]
     },
     "metadata": {
      "needs_background": "light"
     },
     "output_type": "display_data"
    }
   ],
   "source": [
    "plt.scatter(tweets['Adj_Close'], tweets['tweet_rtn_index'])\n",
    "plt.xlabel('Adj_Close')\n",
    "plt.ylabel('tweet_index')\n",
    "plt.show()"
   ]
  },
  {
   "cell_type": "code",
   "execution_count": 24,
   "metadata": {},
   "outputs": [
    {
     "data": {
      "image/png": "[encoded data removed]",
      "text/plain": [
       "<Figure size 432x288 with 1 Axes>"
      ]
     },
     "metadata": {
      "needs_background": "light"
     },
     "output_type": "display_data"
    }
   ],
   "source": [
    "plt.scatter(tweets['Adj_Volume'], tweets['tweet_vol_index'])\n",
    "plt.xlabel('Adj_Volume')\n",
    "plt.ylabel('tweet_vol_index')\n",
    "plt.show()"
   ]
  },
  {
   "cell_type": "code",
   "execution_count": 25,
   "metadata": {},
   "outputs": [
    {
     "data": {
      "text/plain": [
       "LeveneResult(statistic=190.81248929167947, pvalue=5.460020803080139e-36)"
      ]
     },
     "execution_count": 25,
     "metadata": {},
     "output_type": "execute_result"
    }
   ],
   "source": [
    "#p-value of tweet_index and Adj_Close\n",
    "\n",
    "import scipy.stats as stats\n",
    "stats.levene(tweets['Adj_Close'], tweets['tweet_rtn_index'])"
   ]
  },
  {
   "cell_type": "code",
   "execution_count": 26,
   "metadata": {},
   "outputs": [
    {
     "data": {
      "text/plain": [
       "LeveneResult(statistic=104.67450798953506, pvalue=4.592809888174001e-22)"
      ]
     },
     "execution_count": 26,
     "metadata": {},
     "output_type": "execute_result"
    }
   ],
   "source": [
    "#p-value of tweet_index and Adj_Volume\n",
    "\n",
    "import scipy.stats as stats\n",
    "stats.levene(tweets['Adj_Volume'], tweets['tweet_vol_index'])"
   ]
  },
  {
   "cell_type": "code",
   "execution_count": 27,
   "metadata": {},
   "outputs": [],
   "source": [
    "#Lets look at a short period because there a lot fo Trump news over the past 4 years. So I choose 2019 period\n",
    "new_data = tweets[tweets['date_week'].between('2019-01-01', '2019-12-29')]"
   ]
  },
  {
   "cell_type": "code",
   "execution_count": 28,
   "metadata": {
    "scrolled": true
   },
   "outputs": [
    {
     "data": {
      "text/plain": [
       "[<matplotlib.lines.Line2D at 0x1a25ddab50>]"
      ]
     },
     "execution_count": 28,
     "metadata": {},
     "output_type": "execute_result"
    },
    {
     "data": {
      "image/png": "[encoded data removed]",
      "text/plain": [
       "<Figure size 432x288 with 2 Axes>"
      ]
     },
     "metadata": {
      "needs_background": "light"
     },
     "output_type": "display_data"
    }
   ],
   "source": [
    "fig, (ax1, ax2) = plt.subplots(2)\n",
    "fig.suptitle('Vertically subplots of Adj_Close & tweet_rtn_index')\n",
    "ax1.plot(new_data['date_week'], new_data['Adj_Close'])\n",
    "ax2.plot(new_data['date_week'], new_data['tweet_rtn_index'], color='red')"
   ]
  },
  {
   "cell_type": "code",
   "execution_count": 29,
   "metadata": {
    "scrolled": true
   },
   "outputs": [
    {
     "data": {
      "text/plain": [
       "[<matplotlib.lines.Line2D at 0x1a25017250>]"
      ]
     },
     "execution_count": 29,
     "metadata": {},
     "output_type": "execute_result"
    },
    {
     "data": {
      "image/png": "[encoded data removed]",
      "text/plain": [
       "<Figure size 432x288 with 2 Axes>"
      ]
     },
     "metadata": {
      "needs_background": "light"
     },
     "output_type": "display_data"
    }
   ],
   "source": [
    "fig, (ax3, ax4) = plt.subplots(2)\n",
    "fig.suptitle('Vertically subplots of Adj_Volume & tweet_vol_index')\n",
    "ax3.plot(new_data['date_week'], new_data['Adj_Volume'])\n",
    "ax4.plot(new_data['date_week'], new_data['tweet_vol_index'], color='red')"
   ]
  },
  {
   "cell_type": "code",
   "execution_count": 30,
   "metadata": {},
   "outputs": [],
   "source": [
    "tweets['Ret_lag'] = tweets['Adj_Close'].shift()"
   ]
  },
  {
   "cell_type": "code",
   "execution_count": 31,
   "metadata": {},
   "outputs": [],
   "source": [
    "import statsmodels.formula.api as smf\n",
    "\n",
    "\n",
    "reg = smf.ols('Adj_Close~tweet_rtn_index+tweet_vol_index+Ret_lag', data=tweets).fit()"
   ]
  },
  {
   "cell_type": "code",
   "execution_count": 32,
   "metadata": {},
   "outputs": [
    {
     "data": {
      "text/html": [
       "<table class=\"simpletable\">\n",
       "<caption>OLS Regression Results</caption>\n",
       "<tr>\n",
       "  <th>Dep. Variable:</th>        <td>Adj_Close</td>    <th>  R-squared:         </th> <td>   0.329</td>\n",
       "</tr>\n",
       "<tr>\n",
       "  <th>Model:</th>                   <td>OLS</td>       <th>  Adj. R-squared:    </th> <td>   0.319</td>\n",
       "</tr>\n",
       "<tr>\n",
       "  <th>Method:</th>             <td>Least Squares</td>  <th>  F-statistic:       </th> <td>   33.33</td>\n",
       "</tr>\n",
       "<tr>\n",
       "  <th>Date:</th>             <td>Tue, 07 Apr 2020</td> <th>  Prob (F-statistic):</th> <td>1.42e-17</td>\n",
       "</tr>\n",
       "<tr>\n",
       "  <th>Time:</th>                 <td>14:41:40</td>     <th>  Log-Likelihood:    </th> <td>  588.69</td>\n",
       "</tr>\n",
       "<tr>\n",
       "  <th>No. Observations:</th>      <td>   208</td>      <th>  AIC:               </th> <td>  -1169.</td>\n",
       "</tr>\n",
       "<tr>\n",
       "  <th>Df Residuals:</th>          <td>   204</td>      <th>  BIC:               </th> <td>  -1156.</td>\n",
       "</tr>\n",
       "<tr>\n",
       "  <th>Df Model:</th>              <td>     3</td>      <th>                     </th>     <td> </td>   \n",
       "</tr>\n",
       "<tr>\n",
       "  <th>Covariance Type:</th>      <td>nonrobust</td>    <th>                     </th>     <td> </td>   \n",
       "</tr>\n",
       "</table>\n",
       "<table class=\"simpletable\">\n",
       "<tr>\n",
       "         <td></td>            <th>coef</th>     <th>std err</th>      <th>t</th>      <th>P>|t|</th>  <th>[0.025</th>    <th>0.975]</th>  \n",
       "</tr>\n",
       "<tr>\n",
       "  <th>Intercept</th>       <td>    0.0024</td> <td>    0.001</td> <td>    2.343</td> <td> 0.020</td> <td>    0.000</td> <td>    0.004</td>\n",
       "</tr>\n",
       "<tr>\n",
       "  <th>tweet_rtn_index</th> <td>    7.7219</td> <td>    0.792</td> <td>    9.749</td> <td> 0.000</td> <td>    6.160</td> <td>    9.284</td>\n",
       "</tr>\n",
       "<tr>\n",
       "  <th>tweet_vol_index</th> <td>   -0.0021</td> <td>    0.019</td> <td>   -0.112</td> <td> 0.911</td> <td>   -0.039</td> <td>    0.035</td>\n",
       "</tr>\n",
       "<tr>\n",
       "  <th>Ret_lag</th>         <td>   -0.0479</td> <td>    0.058</td> <td>   -0.830</td> <td> 0.407</td> <td>   -0.162</td> <td>    0.066</td>\n",
       "</tr>\n",
       "</table>\n",
       "<table class=\"simpletable\">\n",
       "<tr>\n",
       "  <th>Omnibus:</th>       <td>51.457</td> <th>  Durbin-Watson:     </th> <td>   1.878</td>\n",
       "</tr>\n",
       "<tr>\n",
       "  <th>Prob(Omnibus):</th> <td> 0.000</td> <th>  Jarque-Bera (JB):  </th> <td> 412.989</td>\n",
       "</tr>\n",
       "<tr>\n",
       "  <th>Skew:</th>          <td>-0.646</td> <th>  Prob(JB):          </th> <td>2.09e-90</td>\n",
       "</tr>\n",
       "<tr>\n",
       "  <th>Kurtosis:</th>      <td> 9.781</td> <th>  Cond. No.          </th> <td>    793.</td>\n",
       "</tr>\n",
       "</table><br/><br/>Warnings:<br/>[1] Standard Errors assume that the covariance matrix of the errors is correctly specified."
      ],
      "text/plain": [
       "<class 'statsmodels.iolib.summary.Summary'>\n",
       "\"\"\"\n",
       "                            OLS Regression Results                            \n",
       "==============================================================================\n",
       "Dep. Variable:              Adj_Close   R-squared:                       0.329\n",
       "Model:                            OLS   Adj. R-squared:                  0.319\n",
       "Method:                 Least Squares   F-statistic:                     33.33\n",
       "Date:                Tue, 07 Apr 2020   Prob (F-statistic):           1.42e-17\n",
       "Time:                        14:41:40   Log-Likelihood:                 588.69\n",
       "No. Observations:                 208   AIC:                            -1169.\n",
       "Df Residuals:                     204   BIC:                            -1156.\n",
       "Df Model:                           3                                         \n",
       "Covariance Type:            nonrobust                                         \n",
       "===================================================================================\n",
       "                      coef    std err          t      P>|t|      [0.025      0.975]\n",
       "-----------------------------------------------------------------------------------\n",
       "Intercept           0.0024      0.001      2.343      0.020       0.000       0.004\n",
       "tweet_rtn_index     7.7219      0.792      9.749      0.000       6.160       9.284\n",
       "tweet_vol_index    -0.0021      0.019     -0.112      0.911      -0.039       0.035\n",
       "Ret_lag            -0.0479      0.058     -0.830      0.407      -0.162       0.066\n",
       "==============================================================================\n",
       "Omnibus:                       51.457   Durbin-Watson:                   1.878\n",
       "Prob(Omnibus):                  0.000   Jarque-Bera (JB):              412.989\n",
       "Skew:                          -0.646   Prob(JB):                     2.09e-90\n",
       "Kurtosis:                       9.781   Cond. No.                         793.\n",
       "==============================================================================\n",
       "\n",
       "Warnings:\n",
       "[1] Standard Errors assume that the covariance matrix of the errors is correctly specified.\n",
       "\"\"\""
      ]
     },
     "execution_count": 32,
     "metadata": {},
     "output_type": "execute_result"
    }
   ],
   "source": [
    "reg.summary()"
   ]
  },
  {
   "cell_type": "markdown",
   "metadata": {},
   "source": []
  },
  {
   "cell_type": "markdown",
   "metadata": {},
   "source": [
    "### Build a predicitive Analytics Model that uses Trump Tweets to predict the weekly returns"
   ]
  },
  {
   "cell_type": "code",
   "execution_count": 33,
   "metadata": {},
   "outputs": [],
   "source": [
    "# Features involved in the prediction\n",
    "dfX = tweets[['tweet_vol_index', 'tweet_rtn_index', 'Adj_Volume']]\n",
    "\n",
    "# The variable that is being predicted\n",
    "dfY = tweets['Adj_Close']"
   ]
  },
  {
   "cell_type": "code",
   "execution_count": 34,
   "metadata": {},
   "outputs": [],
   "source": [
    "##Cross Validation\n",
    "\n",
    "#Import the module for cross validation\n",
    "from sklearn.model_selection import train_test_split\n",
    "\n",
    "#Break the data between train and test\n",
    "X_train, X_test, Y_train, Y_test = train_test_split(dfX, dfY, test_size=0.2, random_state=0)"
   ]
  },
  {
   "cell_type": "code",
   "execution_count": 35,
   "metadata": {},
   "outputs": [
    {
     "data": {
      "text/plain": [
       "LinearRegression(copy_X=True, fit_intercept=True, n_jobs=None, normalize=False)"
      ]
     },
     "execution_count": 35,
     "metadata": {},
     "output_type": "execute_result"
    }
   ],
   "source": [
    "# Create linear regression! (Yay!)\n",
    "\n",
    "from sklearn.linear_model import LinearRegression\n",
    "\n",
    "# Create regressor object\n",
    "linearRegression = LinearRegression()\n",
    "\n",
    "# Fit data\n",
    "linearRegression.fit(X_train, Y_train)"
   ]
  },
  {
   "cell_type": "code",
   "execution_count": 36,
   "metadata": {},
   "outputs": [
    {
     "name": "stdout",
     "output_type": "stream",
     "text": [
      "[ 0.0048197   0.00393     0.00068059  0.00441241  0.0026818  -0.0032003\n",
      "  0.03132821  0.02556294  0.00447249  0.00111873  0.00429502  0.00178579\n",
      " -0.00043755 -0.00477284  0.0035876   0.00527125  0.00602023  0.00594911\n",
      " -0.00279162 -0.01603573  0.00295072  0.00580824  0.0137056   0.00659621\n",
      "  0.00692351  0.00630415  0.00097975  0.00538685 -0.01208568 -0.00304244\n",
      "  0.01142274  0.00457853  0.00735427 -0.00998327 -0.00935826  0.00604363\n",
      " -0.00065578  0.01478769 -0.006142   -0.00064179  0.02294388  0.00382377]\n"
     ]
    }
   ],
   "source": [
    "#Create a prediction table on the test set\n",
    "Y_predict = linearRegression.predict(X_test)\n",
    "\n",
    "#Print\n",
    "print(Y_predict)"
   ]
  },
  {
   "cell_type": "code",
   "execution_count": 37,
   "metadata": {},
   "outputs": [
    {
     "data": {
      "image/png": "[encoded data removed]",
      "text/plain": [
       "<Figure size 432x288 with 1 Axes>"
      ]
     },
     "metadata": {
      "needs_background": "light"
     },
     "output_type": "display_data"
    }
   ],
   "source": [
    "#Check the distribution of the residual\n",
    "residual = Y_test - Y_predict\n",
    "plt.hist(residual)\n",
    "plt.show()"
   ]
  },
  {
   "cell_type": "code",
   "execution_count": 38,
   "metadata": {},
   "outputs": [
    {
     "data": {
      "text/plain": [
       "NormaltestResult(statistic=36.21158061112045, pvalue=1.3701091913675239e-08)"
      ]
     },
     "execution_count": 38,
     "metadata": {},
     "output_type": "execute_result"
    }
   ],
   "source": [
    "import scipy\n",
    "\n",
    "scipy.stats.normaltest(residual)\n",
    "#It is not normal distributed!"
   ]
  },
  {
   "cell_type": "code",
   "execution_count": 39,
   "metadata": {},
   "outputs": [
    {
     "data": {
      "image/png": "[encoded data removed]",
      "text/plain": [
       "<Figure size 432x288 with 1 Axes>"
      ]
     },
     "metadata": {
      "needs_background": "light"
     },
     "output_type": "display_data"
    }
   ],
   "source": [
    "#Scatter Plot showing an a positive correlation\n",
    "plt.scatter(Y_test, Y_predict)\n",
    "plt.xlabel('Real Data')\n",
    "plt.ylabel('Predicted Data')\n",
    "plt.show()"
   ]
  },
  {
   "cell_type": "code",
   "execution_count": 45,
   "metadata": {},
   "outputs": [
    {
     "name": "stdout",
     "output_type": "stream",
     "text": [
      "R^2: 0.3100805998763911\n",
      "The R^2 is between 0.3-0.5, the model is considerd moderate predictor of the returns\n"
     ]
    }
   ],
   "source": [
    "DiffSumResiduals = (Y_predict - np.mean(Y_test))**2\n",
    "DiffSumActual = (Y_test - np.mean(Y_test))**2\n",
    "rSquared2 = DiffSumResiduals.sum()/DiffSumActual.sum()\n",
    "\n",
    "print('R^2:', str(rSquared2))\n",
    "print('The R^2 is between 0.3-0.5, the model is considerd moderate predictor of the returns')"
   ]
  }
 ],
 "metadata": {
  "kernelspec": {
   "display_name": "Python 3",
   "language": "python",
   "name": "python3"
  },
  "language_info": {
   "codemirror_mode": {
    "name": "ipython",
    "version": 3
   },
   "file_extension": ".py",
   "mimetype": "text/x-python",
   "name": "python",
   "nbconvert_exporter": "python",
   "pygments_lexer": "ipython3",
   "version": "3.7.4"
  }
 },
 "nbformat": 4,
 "nbformat_minor": 2
}
